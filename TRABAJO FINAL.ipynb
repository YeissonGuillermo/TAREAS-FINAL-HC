{
 "cells": [
  {
   "cell_type": "markdown",
   "id": "f8bf9562",
   "metadata": {},
   "source": [
    "# TRABAJO FINAL\n",
    "### JEISSON GUILLERMO GONZALEZ RONDON 2210704 "
   ]
  },
  {
   "cell_type": "code",
   "execution_count": 5,
   "id": "31cadfca",
   "metadata": {},
   "outputs": [],
   "source": [
    "#para empezar a trabajar primero debemos importar las librerias#\n",
    "import pandas as pd\n",
    "import matplotlib.pyplot as plt\n",
    "import numpy as np\n",
    "from scipy.optimize import curve_fit"
   ]
  },
  {
   "cell_type": "markdown",
   "id": "f82e8ccc",
   "metadata": {},
   "source": [
    "TENEMOS QUE INGRESAR LOS ARCHIVOS Y LUEGO LEERLOS USANDO PANDAS"
   ]
  },
  {
   "cell_type": "code",
   "execution_count": 6,
   "id": "2a5994a5",
   "metadata": {},
   "outputs": [],
   "source": [
    "voltaje=pd.read_csv('Voltage.csv')\n",
    "intensidad=pd.read_csv('Global_intensity.csv')\n",
    "reactivo=pd.read_csv('Global_reactive_power.csv')\n",
    "activo=pd.read_csv('Global_active_power.csv')"
   ]
  },
  {
   "cell_type": "markdown",
   "id": "e595d7af",
   "metadata": {},
   "source": [
    "LUEGO TENEMOS QUE JUNTAS TODOS LOS DATOS EN UN SOLO ARCHIVO \n"
   ]
  },
  {
   "cell_type": "code",
   "execution_count": 7,
   "id": "e2c4e69b",
   "metadata": {},
   "outputs": [
    {
     "data": {
      "text/html": [
       "<div>\n",
       "<style scoped>\n",
       "    .dataframe tbody tr th:only-of-type {\n",
       "        vertical-align: middle;\n",
       "    }\n",
       "\n",
       "    .dataframe tbody tr th {\n",
       "        vertical-align: top;\n",
       "    }\n",
       "\n",
       "    .dataframe thead th {\n",
       "        text-align: right;\n",
       "    }\n",
       "</style>\n",
       "<table border=\"1\" class=\"dataframe\">\n",
       "  <thead>\n",
       "    <tr style=\"text-align: right;\">\n",
       "      <th></th>\n",
       "      <th>Voltage</th>\n",
       "      <th>Global_intensity</th>\n",
       "      <th>Global_reactive_power</th>\n",
       "      <th>Global_active_power</th>\n",
       "    </tr>\n",
       "    <tr>\n",
       "      <th>Datetime</th>\n",
       "      <th></th>\n",
       "      <th></th>\n",
       "      <th></th>\n",
       "      <th></th>\n",
       "    </tr>\n",
       "  </thead>\n",
       "  <tbody>\n",
       "    <tr>\n",
       "      <th>2010-01-01 00:00:00</th>\n",
       "      <td>240.65</td>\n",
       "      <td>7.4</td>\n",
       "      <td>0.236</td>\n",
       "      <td>1.790</td>\n",
       "    </tr>\n",
       "    <tr>\n",
       "      <th>2010-01-01 00:01:00</th>\n",
       "      <td>240.07</td>\n",
       "      <td>7.4</td>\n",
       "      <td>0.234</td>\n",
       "      <td>1.780</td>\n",
       "    </tr>\n",
       "    <tr>\n",
       "      <th>2010-01-01 00:02:00</th>\n",
       "      <td>240.15</td>\n",
       "      <td>7.4</td>\n",
       "      <td>0.234</td>\n",
       "      <td>1.780</td>\n",
       "    </tr>\n",
       "    <tr>\n",
       "      <th>2010-01-01 00:03:00</th>\n",
       "      <td>240.26</td>\n",
       "      <td>7.2</td>\n",
       "      <td>0.186</td>\n",
       "      <td>1.746</td>\n",
       "    </tr>\n",
       "    <tr>\n",
       "      <th>2010-01-01 00:04:00</th>\n",
       "      <td>240.12</td>\n",
       "      <td>7.0</td>\n",
       "      <td>0.102</td>\n",
       "      <td>1.686</td>\n",
       "    </tr>\n",
       "    <tr>\n",
       "      <th>...</th>\n",
       "      <td>...</td>\n",
       "      <td>...</td>\n",
       "      <td>...</td>\n",
       "      <td>...</td>\n",
       "    </tr>\n",
       "    <tr>\n",
       "      <th>2010-11-26 20:58:00</th>\n",
       "      <td>240.43</td>\n",
       "      <td>4.0</td>\n",
       "      <td>0.000</td>\n",
       "      <td>0.946</td>\n",
       "    </tr>\n",
       "    <tr>\n",
       "      <th>2010-11-26 20:59:00</th>\n",
       "      <td>240.00</td>\n",
       "      <td>4.0</td>\n",
       "      <td>0.000</td>\n",
       "      <td>0.944</td>\n",
       "    </tr>\n",
       "    <tr>\n",
       "      <th>2010-11-26 21:00:00</th>\n",
       "      <td>239.82</td>\n",
       "      <td>3.8</td>\n",
       "      <td>0.000</td>\n",
       "      <td>0.938</td>\n",
       "    </tr>\n",
       "    <tr>\n",
       "      <th>2010-11-26 21:01:00</th>\n",
       "      <td>239.70</td>\n",
       "      <td>3.8</td>\n",
       "      <td>0.000</td>\n",
       "      <td>0.934</td>\n",
       "    </tr>\n",
       "    <tr>\n",
       "      <th>2010-11-26 21:02:00</th>\n",
       "      <td>239.55</td>\n",
       "      <td>3.8</td>\n",
       "      <td>0.000</td>\n",
       "      <td>0.932</td>\n",
       "    </tr>\n",
       "  </tbody>\n",
       "</table>\n",
       "<p>457395 rows × 4 columns</p>\n",
       "</div>"
      ],
      "text/plain": [
       "                     Voltage  Global_intensity  Global_reactive_power  \\\n",
       "Datetime                                                                \n",
       "2010-01-01 00:00:00   240.65               7.4                  0.236   \n",
       "2010-01-01 00:01:00   240.07               7.4                  0.234   \n",
       "2010-01-01 00:02:00   240.15               7.4                  0.234   \n",
       "2010-01-01 00:03:00   240.26               7.2                  0.186   \n",
       "2010-01-01 00:04:00   240.12               7.0                  0.102   \n",
       "...                      ...               ...                    ...   \n",
       "2010-11-26 20:58:00   240.43               4.0                  0.000   \n",
       "2010-11-26 20:59:00   240.00               4.0                  0.000   \n",
       "2010-11-26 21:00:00   239.82               3.8                  0.000   \n",
       "2010-11-26 21:01:00   239.70               3.8                  0.000   \n",
       "2010-11-26 21:02:00   239.55               3.8                  0.000   \n",
       "\n",
       "                     Global_active_power  \n",
       "Datetime                                  \n",
       "2010-01-01 00:00:00                1.790  \n",
       "2010-01-01 00:01:00                1.780  \n",
       "2010-01-01 00:02:00                1.780  \n",
       "2010-01-01 00:03:00                1.746  \n",
       "2010-01-01 00:04:00                1.686  \n",
       "...                                  ...  \n",
       "2010-11-26 20:58:00                0.946  \n",
       "2010-11-26 20:59:00                0.944  \n",
       "2010-11-26 21:00:00                0.938  \n",
       "2010-11-26 21:01:00                0.934  \n",
       "2010-11-26 21:02:00                0.932  \n",
       "\n",
       "[457395 rows x 4 columns]"
      ]
     },
     "execution_count": 7,
     "metadata": {},
     "output_type": "execute_result"
    }
   ],
   "source": [
    "tabla1=pd.merge(voltaje,intensidad, how='outer', on='Datetime') #Se unen de a dos tablas\n",
    "tabla2=pd.merge(reactivo,activo, how='outer', on='Datetime')\n",
    "\n",
    "datos=pd.merge(tabla1,tabla2, how='outer', on='Datetime')  #Se unen las anteriores dos tablas\n",
    "\n",
    "datos['Datetime'] = pd.to_datetime(datos['Datetime'])  #Formato para ser representado\n",
    "datos=datos.set_index('Datetime')\n",
    "datos"
   ]
  },
  {
   "cell_type": "markdown",
   "id": "b04c2c97",
   "metadata": {},
   "source": [
    "A CONTINUACION, DEBEMOS HACERUN RESAMPLE DE LOS DATOS EN LOS PARAMETROS REQUERIDOS, EN NUESTRO CASO SERAN DIAS Y MESES"
   ]
  },
  {
   "cell_type": "code",
   "execution_count": 8,
   "id": "75598df9",
   "metadata": {},
   "outputs": [
    {
     "data": {
      "text/html": [
       "<div>\n",
       "<style scoped>\n",
       "    .dataframe tbody tr th:only-of-type {\n",
       "        vertical-align: middle;\n",
       "    }\n",
       "\n",
       "    .dataframe tbody tr th {\n",
       "        vertical-align: top;\n",
       "    }\n",
       "\n",
       "    .dataframe thead th {\n",
       "        text-align: right;\n",
       "    }\n",
       "</style>\n",
       "<table border=\"1\" class=\"dataframe\">\n",
       "  <thead>\n",
       "    <tr style=\"text-align: right;\">\n",
       "      <th></th>\n",
       "      <th>Voltage</th>\n",
       "      <th>Global_intensity</th>\n",
       "      <th>Global_reactive_power</th>\n",
       "      <th>Global_active_power</th>\n",
       "    </tr>\n",
       "    <tr>\n",
       "      <th>Datetime</th>\n",
       "      <th></th>\n",
       "      <th></th>\n",
       "      <th></th>\n",
       "      <th></th>\n",
       "    </tr>\n",
       "  </thead>\n",
       "  <tbody>\n",
       "    <tr>\n",
       "      <th>2010-01-01</th>\n",
       "      <td>242.565722</td>\n",
       "      <td>3.537083</td>\n",
       "      <td>0.114817</td>\n",
       "      <td>0.850175</td>\n",
       "    </tr>\n",
       "    <tr>\n",
       "      <th>2010-01-02</th>\n",
       "      <td>243.631743</td>\n",
       "      <td>4.857778</td>\n",
       "      <td>0.086656</td>\n",
       "      <td>1.176235</td>\n",
       "    </tr>\n",
       "    <tr>\n",
       "      <th>2010-01-03</th>\n",
       "      <td>241.822778</td>\n",
       "      <td>3.757778</td>\n",
       "      <td>0.090331</td>\n",
       "      <td>0.901894</td>\n",
       "    </tr>\n",
       "    <tr>\n",
       "      <th>2010-01-04</th>\n",
       "      <td>241.754160</td>\n",
       "      <td>4.879028</td>\n",
       "      <td>0.100322</td>\n",
       "      <td>1.171833</td>\n",
       "    </tr>\n",
       "    <tr>\n",
       "      <th>2010-01-05</th>\n",
       "      <td>240.647167</td>\n",
       "      <td>3.929861</td>\n",
       "      <td>0.133697</td>\n",
       "      <td>0.916776</td>\n",
       "    </tr>\n",
       "    <tr>\n",
       "      <th>...</th>\n",
       "      <td>...</td>\n",
       "      <td>...</td>\n",
       "      <td>...</td>\n",
       "      <td>...</td>\n",
       "    </tr>\n",
       "    <tr>\n",
       "      <th>2010-12-07</th>\n",
       "      <td>240.218646</td>\n",
       "      <td>3.397222</td>\n",
       "      <td>0.198550</td>\n",
       "      <td>0.770538</td>\n",
       "    </tr>\n",
       "    <tr>\n",
       "      <th>2010-12-08</th>\n",
       "      <td>240.794931</td>\n",
       "      <td>1.623750</td>\n",
       "      <td>0.117429</td>\n",
       "      <td>0.367846</td>\n",
       "    </tr>\n",
       "    <tr>\n",
       "      <th>2010-12-09</th>\n",
       "      <td>241.619722</td>\n",
       "      <td>4.755694</td>\n",
       "      <td>0.139832</td>\n",
       "      <td>1.119508</td>\n",
       "    </tr>\n",
       "    <tr>\n",
       "      <th>2010-12-10</th>\n",
       "      <td>240.260674</td>\n",
       "      <td>4.681389</td>\n",
       "      <td>0.118242</td>\n",
       "      <td>1.097008</td>\n",
       "    </tr>\n",
       "    <tr>\n",
       "      <th>2010-12-11</th>\n",
       "      <td>238.837896</td>\n",
       "      <td>5.434861</td>\n",
       "      <td>0.104961</td>\n",
       "      <td>1.275571</td>\n",
       "    </tr>\n",
       "  </tbody>\n",
       "</table>\n",
       "<p>345 rows × 4 columns</p>\n",
       "</div>"
      ],
      "text/plain": [
       "               Voltage  Global_intensity  Global_reactive_power  \\\n",
       "Datetime                                                          \n",
       "2010-01-01  242.565722          3.537083               0.114817   \n",
       "2010-01-02  243.631743          4.857778               0.086656   \n",
       "2010-01-03  241.822778          3.757778               0.090331   \n",
       "2010-01-04  241.754160          4.879028               0.100322   \n",
       "2010-01-05  240.647167          3.929861               0.133697   \n",
       "...                ...               ...                    ...   \n",
       "2010-12-07  240.218646          3.397222               0.198550   \n",
       "2010-12-08  240.794931          1.623750               0.117429   \n",
       "2010-12-09  241.619722          4.755694               0.139832   \n",
       "2010-12-10  240.260674          4.681389               0.118242   \n",
       "2010-12-11  238.837896          5.434861               0.104961   \n",
       "\n",
       "            Global_active_power  \n",
       "Datetime                         \n",
       "2010-01-01             0.850175  \n",
       "2010-01-02             1.176235  \n",
       "2010-01-03             0.901894  \n",
       "2010-01-04             1.171833  \n",
       "2010-01-05             0.916776  \n",
       "...                         ...  \n",
       "2010-12-07             0.770538  \n",
       "2010-12-08             0.367846  \n",
       "2010-12-09             1.119508  \n",
       "2010-12-10             1.097008  \n",
       "2010-12-11             1.275571  \n",
       "\n",
       "[345 rows x 4 columns]"
      ]
     },
     "execution_count": 8,
     "metadata": {},
     "output_type": "execute_result"
    }
   ],
   "source": [
    "#resample de los dias\n",
    "dias=datos.resample('D').mean()\n",
    "dias"
   ]
  },
  {
   "cell_type": "code",
   "execution_count": 9,
   "id": "cf14a789",
   "metadata": {},
   "outputs": [
    {
     "data": {
      "text/html": [
       "<div>\n",
       "<style scoped>\n",
       "    .dataframe tbody tr th:only-of-type {\n",
       "        vertical-align: middle;\n",
       "    }\n",
       "\n",
       "    .dataframe tbody tr th {\n",
       "        vertical-align: top;\n",
       "    }\n",
       "\n",
       "    .dataframe thead th {\n",
       "        text-align: right;\n",
       "    }\n",
       "</style>\n",
       "<table border=\"1\" class=\"dataframe\">\n",
       "  <thead>\n",
       "    <tr style=\"text-align: right;\">\n",
       "      <th></th>\n",
       "      <th>Voltage</th>\n",
       "      <th>Global_intensity</th>\n",
       "      <th>Global_reactive_power</th>\n",
       "      <th>Global_active_power</th>\n",
       "    </tr>\n",
       "    <tr>\n",
       "      <th>Datetime</th>\n",
       "      <th></th>\n",
       "      <th></th>\n",
       "      <th></th>\n",
       "      <th></th>\n",
       "    </tr>\n",
       "  </thead>\n",
       "  <tbody>\n",
       "    <tr>\n",
       "      <th>2010-01-31</th>\n",
       "      <td>242.338522</td>\n",
       "      <td>5.430332</td>\n",
       "      <td>0.125182</td>\n",
       "      <td>1.300640</td>\n",
       "    </tr>\n",
       "    <tr>\n",
       "      <th>2010-02-28</th>\n",
       "      <td>242.002101</td>\n",
       "      <td>4.836624</td>\n",
       "      <td>0.109467</td>\n",
       "      <td>1.157539</td>\n",
       "    </tr>\n",
       "    <tr>\n",
       "      <th>2010-03-31</th>\n",
       "      <td>241.475284</td>\n",
       "      <td>4.920399</td>\n",
       "      <td>0.136368</td>\n",
       "      <td>1.170015</td>\n",
       "    </tr>\n",
       "    <tr>\n",
       "      <th>2010-04-30</th>\n",
       "      <td>241.442527</td>\n",
       "      <td>4.363496</td>\n",
       "      <td>0.129557</td>\n",
       "      <td>1.036334</td>\n",
       "    </tr>\n",
       "    <tr>\n",
       "      <th>2010-05-31</th>\n",
       "      <td>241.296151</td>\n",
       "      <td>4.551504</td>\n",
       "      <td>0.127221</td>\n",
       "      <td>1.075957</td>\n",
       "    </tr>\n",
       "    <tr>\n",
       "      <th>2010-06-30</th>\n",
       "      <td>240.888985</td>\n",
       "      <td>4.170282</td>\n",
       "      <td>0.145525</td>\n",
       "      <td>0.975306</td>\n",
       "    </tr>\n",
       "    <tr>\n",
       "      <th>2010-07-31</th>\n",
       "      <td>240.965167</td>\n",
       "      <td>3.337202</td>\n",
       "      <td>0.138093</td>\n",
       "      <td>0.778947</td>\n",
       "    </tr>\n",
       "    <tr>\n",
       "      <th>2010-08-31</th>\n",
       "      <td>241.422944</td>\n",
       "      <td>3.954423</td>\n",
       "      <td>0.130815</td>\n",
       "      <td>0.929452</td>\n",
       "    </tr>\n",
       "    <tr>\n",
       "      <th>2010-09-30</th>\n",
       "      <td>241.267517</td>\n",
       "      <td>4.223837</td>\n",
       "      <td>0.127700</td>\n",
       "      <td>0.997541</td>\n",
       "    </tr>\n",
       "    <tr>\n",
       "      <th>2010-10-31</th>\n",
       "      <td>242.515451</td>\n",
       "      <td>4.732904</td>\n",
       "      <td>0.134547</td>\n",
       "      <td>1.127749</td>\n",
       "    </tr>\n",
       "    <tr>\n",
       "      <th>2010-11-30</th>\n",
       "      <td>241.024739</td>\n",
       "      <td>4.679594</td>\n",
       "      <td>0.115390</td>\n",
       "      <td>1.106450</td>\n",
       "    </tr>\n",
       "    <tr>\n",
       "      <th>2010-12-31</th>\n",
       "      <td>241.420479</td>\n",
       "      <td>4.673267</td>\n",
       "      <td>0.129499</td>\n",
       "      <td>1.107559</td>\n",
       "    </tr>\n",
       "  </tbody>\n",
       "</table>\n",
       "</div>"
      ],
      "text/plain": [
       "               Voltage  Global_intensity  Global_reactive_power  \\\n",
       "Datetime                                                          \n",
       "2010-01-31  242.338522          5.430332               0.125182   \n",
       "2010-02-28  242.002101          4.836624               0.109467   \n",
       "2010-03-31  241.475284          4.920399               0.136368   \n",
       "2010-04-30  241.442527          4.363496               0.129557   \n",
       "2010-05-31  241.296151          4.551504               0.127221   \n",
       "2010-06-30  240.888985          4.170282               0.145525   \n",
       "2010-07-31  240.965167          3.337202               0.138093   \n",
       "2010-08-31  241.422944          3.954423               0.130815   \n",
       "2010-09-30  241.267517          4.223837               0.127700   \n",
       "2010-10-31  242.515451          4.732904               0.134547   \n",
       "2010-11-30  241.024739          4.679594               0.115390   \n",
       "2010-12-31  241.420479          4.673267               0.129499   \n",
       "\n",
       "            Global_active_power  \n",
       "Datetime                         \n",
       "2010-01-31             1.300640  \n",
       "2010-02-28             1.157539  \n",
       "2010-03-31             1.170015  \n",
       "2010-04-30             1.036334  \n",
       "2010-05-31             1.075957  \n",
       "2010-06-30             0.975306  \n",
       "2010-07-31             0.778947  \n",
       "2010-08-31             0.929452  \n",
       "2010-09-30             0.997541  \n",
       "2010-10-31             1.127749  \n",
       "2010-11-30             1.106450  \n",
       "2010-12-31             1.107559  "
      ]
     },
     "execution_count": 9,
     "metadata": {},
     "output_type": "execute_result"
    }
   ],
   "source": [
    "#resample de los meses\n",
    "meses=datos.resample('M').mean()\n",
    "meses"
   ]
  },
  {
   "cell_type": "markdown",
   "id": "c27cfcb0",
   "metadata": {},
   "source": [
    "AHORA TENEMO QUE EFECTUAR LA REGRESION LINEAL\n",
    "ESTO SE LOGRA GRACIAS A LA FORMULA \n",
    "### Y=MX+B"
   ]
  },
  {
   "cell_type": "code",
   "execution_count": 11,
   "id": "2fd5b0f1",
   "metadata": {},
   "outputs": [],
   "source": [
    "#para ello definimos primero las funciones#\n",
    "def func1(x, a, b):\n",
    "    return a*x+b"
   ]
  },
  {
   "cell_type": "code",
   "execution_count": 12,
   "id": "41c495b6",
   "metadata": {},
   "outputs": [],
   "source": [
    "def get_fit(func,xdata,ydata,labelx,labely,r):\n",
    "    popt, pcov = curve_fit(func, xdata, ydata)\n",
    "    popt, pcov = np.around(popt,r), np.around(np.sqrt(np.diag(pcov)),r)\n",
    "    x=np.linspace(xdata.min(),xdata.max(),100)\n",
    "    plt.figure(figsize=(8,6))\n",
    "    plt.plot(x, func(x, *popt), 'r-',label=r'fit: {}$\\pm${}'.format(np.around(tuple(popt),r),tuple(pcov)))\n",
    "    plt.scatter(xdata,ydata,label=\"Original data\")\n",
    "    plt.xlabel(labelx)\n",
    "    plt.ylabel(labely)\n",
    "    plt.legend()\n",
    "    plt.show()\n",
    "    print(\"Coeficients are : {}\".format(popt))\n",
    "    print(\"Sigma_Coeficients are : {}\".format(pcov))\n",
    "    return #popt, np.sqrt(np.diag(pcov))"
   ]
  },
  {
   "cell_type": "markdown",
   "id": "a28d8c00",
   "metadata": {},
   "source": [
    "## AQUI PODEMOS APRECIAR LA GRAFICA DE LOS MINUTOS"
   ]
  },
  {
   "cell_type": "code",
   "execution_count": 13,
   "id": "94207769",
   "metadata": {},
   "outputs": [
    {
     "data": {
      "image/png": "[encoded data removed]",
      "text/plain": [
       "<Figure size 576x432 with 1 Axes>"
      ]
     },
     "metadata": {
      "needs_background": "light"
     },
     "output_type": "display_data"
    },
    {
     "name": "stdout",
     "output_type": "stream",
     "text": [
      "Coeficients are : [-0.14 33.87]\n",
      "Sigma_Coeficients are : [0.   0.11]\n"
     ]
    }
   ],
   "source": [
    "get_fit(func1,voltaje['Voltage'],activo['Global_active_power'],'Voltage','Global active power',2)"
   ]
  },
  {
   "cell_type": "code",
   "execution_count": 14,
   "id": "187c2697",
   "metadata": {},
   "outputs": [
    {
     "data": {
      "image/png": "[encoded data removed]",
      "text/plain": [
       "<Figure size 576x432 with 1 Axes>"
      ]
     },
     "metadata": {
      "needs_background": "light"
     },
     "output_type": "display_data"
    },
    {
     "name": "stdout",
     "output_type": "stream",
     "text": [
      "Coeficients are : [ 0.24 -0.  ]\n",
      "Sigma_Coeficients are : [0. 0.]\n"
     ]
    }
   ],
   "source": [
    "get_fit(func1,intensidad['Global_intensity'],activo['Global_active_power'],'Global_intensity','Global_active_power',2)"
   ]
  },
  {
   "cell_type": "markdown",
   "id": "b45fdf44",
   "metadata": {},
   "source": [
    "## AQUI LA GRAFICA DE LOS DIAS"
   ]
  },
  {
   "cell_type": "code",
   "execution_count": 15,
   "id": "636c7497",
   "metadata": {},
   "outputs": [],
   "source": [
    "a=dias['Global_active_power']\n",
    "v=dias['Voltage']\n",
    "activo_dias=a.dropna()\n",
    "voltaje_dias=v.dropna()"
   ]
  },
  {
   "cell_type": "code",
   "execution_count": 16,
   "id": "f49640a4",
   "metadata": {},
   "outputs": [
    {
     "data": {
      "image/png": "[encoded data removed]",
      "text/plain": [
       "<Figure size 576x432 with 1 Axes>"
      ]
     },
     "metadata": {
      "needs_background": "light"
     },
     "output_type": "display_data"
    },
    {
     "name": "stdout",
     "output_type": "stream",
     "text": [
      "Coeficients are : [ 0.03 -6.1 ]\n",
      "Sigma_Coeficients are : [0.01 2.99]\n"
     ]
    }
   ],
   "source": [
    "get_fit(func1,voltaje_dias,activo_dias, 'Voltage','Global_active_power',2)"
   ]
  },
  {
   "cell_type": "code",
   "execution_count": 17,
   "id": "58f403f7",
   "metadata": {},
   "outputs": [],
   "source": [
    "i=dias['Global_intensity']\n",
    "\n",
    "\n",
    "intensidad_dias=i.dropna()"
   ]
  },
  {
   "cell_type": "code",
   "execution_count": 18,
   "id": "5b741e89",
   "metadata": {},
   "outputs": [
    {
     "data": {
      "image/png": "[encoded data removed]",
      "text/plain": [
       "<Figure size 576x432 with 1 Axes>"
      ]
     },
     "metadata": {
      "needs_background": "light"
     },
     "output_type": "display_data"
    },
    {
     "name": "stdout",
     "output_type": "stream",
     "text": [
      "Coeficients are : [ 0.24 -0.03]\n",
      "Sigma_Coeficients are : [0. 0.]\n"
     ]
    }
   ],
   "source": [
    "get_fit(func1,intensidad_dias,activo_dias, 'Global_intensity','Global_active_power',2)"
   ]
  },
  {
   "cell_type": "markdown",
   "id": "30ee7dad",
   "metadata": {},
   "source": [
    "## Y POR ULTIMO, LA GRAFICA DE LOS MESES"
   ]
  },
  {
   "cell_type": "code",
   "execution_count": 19,
   "id": "672b260e",
   "metadata": {},
   "outputs": [
    {
     "data": {
      "image/png": "[encoded data removed]",
      "text/plain": [
       "<Figure size 576x432 with 1 Axes>"
      ]
     },
     "metadata": {
      "needs_background": "light"
     },
     "output_type": "display_data"
    },
    {
     "name": "stdout",
     "output_type": "stream",
     "text": [
      "Coeficients are : [  0.17 -40.67]\n",
      "Sigma_Coeficients are : [ 0.06 14.48]\n"
     ]
    }
   ],
   "source": [
    "\n",
    "get_fit(func1,meses['Voltage'],meses['Global_active_power'], 'Voltage','Global_active_power',2)"
   ]
  },
  {
   "cell_type": "code",
   "execution_count": 20,
   "id": "82e173c0",
   "metadata": {},
   "outputs": [
    {
     "data": {
      "image/png": "[encoded data removed]",
      "text/plain": [
       "<Figure size 576x432 with 1 Axes>"
      ]
     },
     "metadata": {
      "needs_background": "light"
     },
     "output_type": "display_data"
    },
    {
     "name": "stdout",
     "output_type": "stream",
     "text": [
      "Coeficients are : [ 0.25 -0.06]\n",
      "Sigma_Coeficients are : [0.   0.01]\n"
     ]
    }
   ],
   "source": [
    "get_fit(func1,meses['Global_intensity'],meses['Global_active_power'], 'Global_intensity','Global_active_power',2)"
   ]
  },
  {
   "cell_type": "markdown",
   "id": "8926c2a0",
   "metadata": {},
   "source": [
    "# APROXIMACION DE LOS ERRORES"
   ]
  },
  {
   "cell_type": "code",
   "execution_count": 21,
   "id": "6173a9df",
   "metadata": {},
   "outputs": [],
   "source": [
    "def get_fit2(func,xdata,ydata,labelx,labely,r):\n",
    "    popt, pcov = curve_fit(func, xdata, ydata)\n",
    "    popt, pcov = np.around(popt,r), np.around(pcov,r)\n",
    "    x=np.linspace(xdata.min(),xdata.max(),100)\n",
    "    E=np.sqrt(np.mean((ydata-func(xdata, *popt))**2))\n",
    "    print(\"Error on fit is ={}\".format(E))\n",
    "    return popt, pcov"
   ]
  },
  {
   "cell_type": "markdown",
   "id": "4f585bd4",
   "metadata": {},
   "source": [
    "### EN LOS MINUTOS"
   ]
  },
  {
   "cell_type": "code",
   "execution_count": 22,
   "id": "77469b87",
   "metadata": {},
   "outputs": [
    {
     "name": "stdout",
     "output_type": "stream",
     "text": [
      "Error on fit is =1.3141359640011343\n"
     ]
    },
    {
     "data": {
      "text/plain": [
       "(array([-0.14, 33.87]),\n",
       " array([[ 0.  , -0.  ],\n",
       "        [-0.  ,  0.01]]))"
      ]
     },
     "execution_count": 22,
     "metadata": {},
     "output_type": "execute_result"
    }
   ],
   "source": [
    "get_fit2(func1,voltaje['Voltage'],activo['Global_active_power'],'Voltage','Global_active_power',2)"
   ]
  },
  {
   "cell_type": "code",
   "execution_count": 23,
   "id": "cbae15b9",
   "metadata": {},
   "outputs": [
    {
     "name": "stdout",
     "output_type": "stream",
     "text": [
      "Error on fit is =0.05173763748702566\n"
     ]
    },
    {
     "data": {
      "text/plain": [
       "(array([ 0.24, -0.  ]),\n",
       " array([[ 0., -0.],\n",
       "        [-0.,  0.]]))"
      ]
     },
     "execution_count": 23,
     "metadata": {},
     "output_type": "execute_result"
    }
   ],
   "source": [
    "get_fit2(func1,intensidad['Global_intensity'],activo['Global_active_power'],'Global_intensity','Global_active_power',2)"
   ]
  },
  {
   "cell_type": "markdown",
   "id": "1d90eda2",
   "metadata": {},
   "source": [
    "### EN LOS DIAS"
   ]
  },
  {
   "cell_type": "code",
   "execution_count": 24,
   "id": "419a52e4",
   "metadata": {},
   "outputs": [
    {
     "name": "stdout",
     "output_type": "stream",
     "text": [
      "Error on fit is =0.35140059805874996\n"
     ]
    },
    {
     "data": {
      "text/plain": [
       "(array([ 0.03, -6.1 ]),\n",
       " array([[ 0.  , -0.04],\n",
       "        [-0.04,  8.94]]))"
      ]
     },
     "execution_count": 24,
     "metadata": {},
     "output_type": "execute_result"
    }
   ],
   "source": [
    "get_fit2(func1,voltaje_dias,activo_dias, 'Voltage','Global_active_power',2)"
   ]
  },
  {
   "cell_type": "code",
   "execution_count": 25,
   "id": "d971da31",
   "metadata": {},
   "outputs": [
    {
     "name": "stdout",
     "output_type": "stream",
     "text": [
      "Error on fit is =0.022630442847155905\n"
     ]
    },
    {
     "data": {
      "text/plain": [
       "(array([ 0.24, -0.03]),\n",
       " array([[ 0., -0.],\n",
       "        [-0.,  0.]]))"
      ]
     },
     "execution_count": 25,
     "metadata": {},
     "output_type": "execute_result"
    }
   ],
   "source": [
    "get_fit2(func1,intensidad_dias,activo_dias, 'Global_intensity','Global_active_power',2)"
   ]
  },
  {
   "cell_type": "markdown",
   "id": "e975771f",
   "metadata": {},
   "source": [
    "### EN LOS MESES"
   ]
  },
  {
   "cell_type": "code",
   "execution_count": 27,
   "id": "b58bcd4a",
   "metadata": {},
   "outputs": [
    {
     "name": "stdout",
     "output_type": "stream",
     "text": [
      "Error on fit is =0.6843367309403187\n"
     ]
    },
    {
     "data": {
      "text/plain": [
       "(array([  0.17, -40.67]),\n",
       " array([[  0.  ,  -0.87],\n",
       "        [ -0.87, 209.62]]))"
      ]
     },
     "execution_count": 27,
     "metadata": {},
     "output_type": "execute_result"
    }
   ],
   "source": [
    "get_fit2(func1,meses['Voltage'],meses['Global_active_power'], 'Voltage','Global_active_power',2)"
   ]
  },
  {
   "cell_type": "code",
   "execution_count": 28,
   "id": "019b33f0",
   "metadata": {},
   "outputs": [
    {
     "name": "stdout",
     "output_type": "stream",
     "text": [
      "Error on fit is =0.004316919789440401\n"
     ]
    },
    {
     "data": {
      "text/plain": [
       "(array([ 0.25, -0.06]),\n",
       " array([[ 0., -0.],\n",
       "        [-0.,  0.]]))"
      ]
     },
     "execution_count": 28,
     "metadata": {},
     "output_type": "execute_result"
    }
   ],
   "source": [
    "get_fit2(func1,meses['Global_intensity'],meses['Global_active_power'], 'Global_intensity','Global_active_power',2)"
   ]
  },
  {
   "cell_type": "markdown",
   "id": "4357b70b",
   "metadata": {},
   "source": [
    "# FINAL DEL TRABAJO\n"
   ]
  },
  {
   "cell_type": "code",
   "execution_count": null,
   "id": "1634dcd5",
   "metadata": {},
   "outputs": [],
   "source": []
  },
  {
   "cell_type": "code",
   "execution_count": null,
   "id": "8ef5d518",
   "metadata": {},
   "outputs": [],
   "source": []
  },
  {
   "cell_type": "code",
   "execution_count": null,
   "id": "d35ee4d4",
   "metadata": {},
   "outputs": [],
   "source": []
  },
  {
   "cell_type": "code",
   "execution_count": null,
   "id": "88694a10",
   "metadata": {},
   "outputs": [],
   "source": []
  },
  {
   "cell_type": "code",
   "execution_count": null,
   "id": "2db558a1",
   "metadata": {},
   "outputs": [],
   "source": []
  },
  {
   "cell_type": "code",
   "execution_count": null,
   "id": "04cbdcf6",
   "metadata": {},
   "outputs": [],
   "source": []
  }
 ],
 "metadata": {
  "kernelspec": {
   "display_name": "Python 3",
   "language": "python",
   "name": "python3"
  },
  "language_info": {
   "codemirror_mode": {
    "name": "ipython",
    "version": 3
   },
   "file_extension": ".py",
   "mimetype": "text/x-python",
   "name": "python",
   "nbconvert_exporter": "python",
   "pygments_lexer": "ipython3",
   "version": "3.8.8"
  }
 },
 "nbformat": 4,
 "nbformat_minor": 5
}
